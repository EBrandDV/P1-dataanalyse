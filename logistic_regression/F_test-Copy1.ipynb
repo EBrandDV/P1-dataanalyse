{
 "cells": [
  {
   "cell_type": "markdown",
   "metadata": {},
   "source": [
    "# F-test"
   ]
  },
  {
   "cell_type": "markdown",
   "metadata": {},
   "source": [
    "## Import packages"
   ]
  },
  {
   "cell_type": "code",
   "execution_count": 20,
   "metadata": {},
   "outputs": [],
   "source": [
    "'''\n",
    "Credit to GitHub user Jaimin09\n",
    "Link: https://github.com/Jaimin09/Coding-Lane-Assets/tree/main/Logistic%20Regression%20in%20Python%20from%20Scratch\n",
    "Last accessed: 28/10/2021\n",
    "'''\n",
    "import copy\n",
    "import matplotlib.pyplot as plt\n",
    "import numpy as np\n",
    "import pandas as pd\n",
    "import seaborn as sns \n",
    "import scipy\n",
    "import v1_model as v1\n",
    "import v2_model as v2\n",
    "\n",
    "\n",
    "from scipy import stats\n",
    "from scipy.stats import norm\n",
    "\n"
   ]
  },
  {
   "cell_type": "code",
   "execution_count": 2,
   "metadata": {},
   "outputs": [],
   "source": [
    "# List containing medals earned for each athlete  \n",
    "Y_list = ['MedalEarned']\n",
    "\n",
    "# ! Get dataset\n",
    "filepath = 'Datasets/expert_data.csv' # Data for Specialized athletes i.e. competing in one sport\n",
    "df = pd.read_csv(filepath)\n",
    "df = df.reset_index() # Resets index for dataset "
   ]
  },
  {
   "cell_type": "markdown",
   "metadata": {},
   "source": [
    "# Import data and set seed "
   ]
  },
  {
   "cell_type": "markdown",
   "metadata": {},
   "source": [
    "## Weights, data  and probability predictions for v1"
   ]
  },
  {
   "cell_type": "code",
   "execution_count": 3,
   "metadata": {
    "scrolled": true
   },
   "outputs": [],
   "source": [
    "# List of variables we are interested in \n",
    "X_list_v1 = ['Height',\n",
    "             'Weight',\n",
    "             'Age']\n",
    "\n",
    "# Import model weights after v1_model has been run \n",
    "W_array = np.genfromtxt('Parameters/W.csv', delimiter=',')# Len of array is equal to iterations\n",
    "B_array = np.genfromtxt('Parameters/B.csv', delimiter=',')"
   ]
  },
  {
   "cell_type": "code",
   "execution_count": 4,
   "metadata": {},
   "outputs": [],
   "source": [
    "# Produce weight for model\n",
    "def ProduceWeights(df, W, B, X_list):\n",
    "\n",
    "    # Get data for model\n",
    "    X_model_df = df[X_list] # Dataframe contains X_list columns \n",
    "    Y_model_df = df[Y_list]\n",
    "    \n",
    "    X_array, Y_array = v1.Reshape(X_model_df, Y_model_df) # Drops ID and transforms each column to a numpy array\n",
    "\n",
    "    # Get model guesses \n",
    "    \n",
    "    # Use dot product on weights and the variable values for each athlete i.e. Ath1 = w1*var1 + w2*var2(..) + B\n",
    "    lin_func = np.dot(W.T, X_array) + B\n",
    "    \n",
    "    # Use linear expression in sigmoid function to get model guess for each athlete \n",
    "    sf = v1.Sigmoid(lin_func) \n",
    "    \n",
    "    return sf"
   ]
  },
  {
   "cell_type": "markdown",
   "metadata": {},
   "source": [
    "### F test loop v1"
   ]
  },
  {
   "cell_type": "code",
   "execution_count": 5,
   "metadata": {
    "scrolled": true
   },
   "outputs": [],
   "source": [
    "# Generate model predictions in two cases. \n",
    "# 0. Model weights remain unchanged \n",
    "# 1. ith weight is set to 0\n",
    "# Append model guesses to lists dependent on  the number of variables i.e. 4 variables creates a list of 4 arrays. \n",
    "\n",
    "def f_test_loop_v1(df, W, B, X_list):\n",
    "    \n",
    "    # Store model guesses with weights unchanged, and create empty list to store model prediction with weights changed\n",
    "    pred_prob_result_list = []\n",
    "    pred_prob = ProduceWeights(df, W, B, X_list)\n",
    "    \n",
    "    for index, element in enumerate(X_list):\n",
    "        \n",
    "        # Print output for each iteration\n",
    "        print(f'The current index is {index}')\n",
    "        print(f'The current element is {element}')\n",
    "        \n",
    "        # Change weights back to values found in W\n",
    "        W_test = copy.deepcopy(W)\n",
    "        \n",
    "        W_test[index] = 0 # index weight set to 0\n",
    "        \n",
    "        # Get a list of model guesses where weights are changed\n",
    "        pred_prob_result = ProduceWeights(df, W_test, B, X_list)\n",
    "        #print(pred_prob_result)\n",
    "        \n",
    "        # Append array of model guesses to list \n",
    "        pred_prob_result_list.append(pred_prob_result)\n",
    "    \n",
    "    return pred_prob, pred_prob_result_list"
   ]
  },
  {
   "cell_type": "code",
   "execution_count": 6,
   "metadata": {},
   "outputs": [
    {
     "name": "stdout",
     "output_type": "stream",
     "text": [
      "The current index is 0\n",
      "The current element is Height\n",
      "The current index is 1\n",
      "The current element is Weight\n",
      "The current index is 2\n",
      "The current element is Age\n"
     ]
    }
   ],
   "source": [
    "# Get first weight in CSV file of weights \n",
    "W_par = np.array([W_array[0][0], W_array[1][0], W_array[2][0]], ndmin= 0)\n",
    "B_par = B_array[0]\n",
    "\n",
    "# Create list of arrays of model guesses \n",
    "pred_prob_v1, pred_prob_result_list_v1 = f_test_loop_v1(df, W_par, B_par, X_list_v1) "
   ]
  },
  {
   "cell_type": "markdown",
   "metadata": {},
   "source": [
    "## Weights, data  and probability predictions for v2"
   ]
  },
  {
   "cell_type": "code",
   "execution_count": 7,
   "metadata": {},
   "outputs": [],
   "source": [
    "X_list_v2 = ['PreviousMedals', 'NOC_advantage', 'Height_div_avg', 'Weight_div_avg', 'Age_div_avg']\n",
    "#'PreviousMedals', "
   ]
  },
  {
   "cell_type": "code",
   "execution_count": 8,
   "metadata": {
    "scrolled": false
   },
   "outputs": [
    {
     "name": "stdout",
     "output_type": "stream",
     "text": [
      "Accuracy of the model is : 83.15\n"
     ]
    },
    {
     "data": {
      "image/png": "[encoded data removed]",
      "text/plain": [
       "<Figure size 432x288 with 1 Axes>"
      ]
     },
     "metadata": {
      "needs_background": "light"
     },
     "output_type": "display_data"
    }
   ],
   "source": [
    "# Run v2_model\n",
    "cop = 0.6\n",
    "W, B, val_acc, val_occ_dic, X_val, Y_val = v2.RunModel(df, X_list_v2, Y_list, cop, iterations= 80000, l_rate= 0.0223)\n",
    "sf = v2.PredProb(X_val, W, B)"
   ]
  },
  {
   "cell_type": "markdown",
   "metadata": {},
   "source": [
    "### F test loop v2"
   ]
  },
  {
   "cell_type": "code",
   "execution_count": 9,
   "metadata": {},
   "outputs": [],
   "source": [
    "# Generate model predictions in two cases. \n",
    "# 0. Model weights remain unchanged \n",
    "# 1. ith weight is set to 0\n",
    "# Append model guesses to lists dependent on  the number of variables i.e. 4 variables creates a list of 4 arrays. \n",
    "\n",
    "def f_test_loop_v2(sf, W, B, X_val, X_list):\n",
    "    \n",
    "    # Store model guesses with weights unchanged, and create empty list to store model prediction with weights changed\n",
    "    pred_prob_result_list = []\n",
    "    \n",
    "    for index, element in enumerate(X_list):\n",
    "        \n",
    "        # Print output for each iteration\n",
    "        print(f'The current index is {index}')\n",
    "        print(f'The current element is {element}')\n",
    "        \n",
    "        # Change weights back to values found in W\n",
    "        W_test = copy.deepcopy(W)\n",
    "        \n",
    "        W_test[index] = 0 # index weight set to 0\n",
    "        \n",
    "        # Get a list of model guesses where weights are changed\n",
    "        pred_prob_result = v2.PredProb(X_val, W_test, B)\n",
    "        #print(pred_prob_result)\n",
    "        \n",
    "        # Append array of model guesses to list \n",
    "        pred_prob_result_list.append(pred_prob_result)\n",
    "    \n",
    "    return pred_prob_result_list"
   ]
  },
  {
   "cell_type": "code",
   "execution_count": 10,
   "metadata": {
    "scrolled": false
   },
   "outputs": [
    {
     "name": "stdout",
     "output_type": "stream",
     "text": [
      "The current index is 0\n",
      "The current element is PreviousMedals\n",
      "The current index is 1\n",
      "The current element is NOC_advantage\n",
      "The current index is 2\n",
      "The current element is Height_div_avg\n",
      "The current index is 3\n",
      "The current element is Weight_div_avg\n",
      "The current index is 4\n",
      "The current element is Age_div_avg\n"
     ]
    }
   ],
   "source": [
    "pred_prob_result_list_v2 = f_test_loop_v2(sf, W, B, X_val, X_list_v2)"
   ]
  },
  {
   "cell_type": "markdown",
   "metadata": {},
   "source": [
    "# Normality "
   ]
  },
  {
   "cell_type": "markdown",
   "metadata": {},
   "source": [
    "## Normality plot v1"
   ]
  },
  {
   "cell_type": "code",
   "execution_count": 44,
   "metadata": {
    "scrolled": false
   },
   "outputs": [
    {
     "ename": "IndexError",
     "evalue": "invalid index to scalar variable.",
     "output_type": "error",
     "traceback": [
      "\u001b[1;31m---------------------------------------------------------------------------\u001b[0m",
      "\u001b[1;31mIndexError\u001b[0m                                Traceback (most recent call last)",
      "\u001b[1;32m~\\AppData\\Local\\Temp/ipykernel_1764/2281292759.py\u001b[0m in \u001b[0;36m<module>\u001b[1;34m\u001b[0m\n\u001b[0;32m     21\u001b[0m \u001b[1;33m\u001b[0m\u001b[0m\n\u001b[0;32m     22\u001b[0m \u001b[1;31m#dist_plot(pred_prob_result_list_v1)\u001b[0m\u001b[1;33m\u001b[0m\u001b[1;33m\u001b[0m\u001b[1;33m\u001b[0m\u001b[0m\n\u001b[1;32m---> 23\u001b[1;33m \u001b[0mpred_prob_v1\u001b[0m\u001b[1;33m[\u001b[0m\u001b[1;36m0\u001b[0m\u001b[1;33m]\u001b[0m\u001b[1;33m[\u001b[0m\u001b[1;36m0\u001b[0m\u001b[1;33m]\u001b[0m\u001b[1;33m\u001b[0m\u001b[1;33m\u001b[0m\u001b[0m\n\u001b[0m",
      "\u001b[1;31mIndexError\u001b[0m: invalid index to scalar variable."
     ]
    }
   ],
   "source": [
    "### TO DO  \n",
    "\n",
    "def dist_plot(my_array):\n",
    "    \n",
    "    # Create displots for elements in probablity array \n",
    "    \n",
    "    # Check whether it is an array \n",
    "    try my_array[0][0]:\n",
    "        \n",
    "    if len(my_array) > 1000:\n",
    "        sns.displot(my_array)\n",
    "    else:\n",
    "        for i, element in enumerate(my_array):\n",
    "            sns.displot(my_array[i])\n",
    "\n",
    "#dist_plot(pred_prob_v1)\n",
    "        \n",
    "#sns.displot(pred_prob_v1)\n",
    "#sns.displot(pred_prob_result_list_v1)\n",
    "\n",
    "# Get qqplot \n",
    "#fig = plt.figure()\n",
    "#res = stats.probplot(train['SalePrice'], plot=plt)\n",
    "#plt.show()\n",
    "\n",
    "#dist_plot(pred_prob_result_list_v1)\n",
    "pred_prob_v1[0][0]"
   ]
  },
  {
   "cell_type": "markdown",
   "metadata": {},
   "source": [
    "## Normality plot v2"
   ]
  },
  {
   "cell_type": "code",
   "execution_count": null,
   "metadata": {},
   "outputs": [],
   "source": []
  },
  {
   "cell_type": "markdown",
   "metadata": {},
   "source": [
    "# F-test"
   ]
  },
  {
   "cell_type": "code",
   "execution_count": 11,
   "metadata": {
    "scrolled": true
   },
   "outputs": [],
   "source": [
    "# F-test: https://link.springer.com/book/10.1007%2F978-3-319-46162-5 \n",
    "# Code adapted from: https://www.statology.org/f-test-python/\n",
    "\n",
    "# F test arrays of model guesses \n",
    "# 0. Model weights remain unchanged \n",
    "# 1. ith weight is set to 0\n",
    "\n",
    "def f_test(sig_0_probabilities,sig_1_probabilities, X_list):\n",
    "    f_test_list = []\n",
    "    \n",
    "    for i in range(len(sig_1_probabilities)):\n",
    "        f = np.var(sig_0_probabilities, ddof=1)/np.var(sig_1_probabilities[i], ddof=1) #calculate F test statistic \n",
    "        dfn = sig_0_probabilities.size-1 #define degrees of freedom numerator \n",
    "        dfd = sig_1_probabilities[i].size-1 #define degrees of freedom denominator \n",
    "        p = 1-scipy.stats.f.cdf(f, dfn, dfd) #find p-value of F test statistic\n",
    "        f_test_list.append(p)\n",
    "        \n",
    "        # Print current variable and p value \n",
    "        print(f'The current variable is: {X_list[i]}\\nThe current p-value is: {p}')\n",
    "        \n",
    "        # Define alpha and print conclusion of hypothesis test \n",
    "        if p <= 0.05:\n",
    "            print(f\"null hypothesis is rejected: p-value = {p}.\\nThe probablity of the two distributions' variance being equal is low.\\nThe variable is likely to impact model output.\\n\")\n",
    "        else:\n",
    "            print(f\"null hypothesis cannot be rejected: p-value = {p}.\\nThe probablity of the two distributions' variance being equal is high.\\nThe variable is unlikely to impact model output.\\n\") \n",
    "    \n",
    "    return f_test_list"
   ]
  },
  {
   "cell_type": "code",
   "execution_count": 12,
   "metadata": {
    "scrolled": true
   },
   "outputs": [
    {
     "name": "stdout",
     "output_type": "stream",
     "text": [
      "The current variable is: Height\n",
      "The current p-value is: 2.3333889598298185e-08\n",
      "null hypothesis is rejected: p-value = 2.3333889598298185e-08.\n",
      "The probablity of the two distributions' variance being equal is low.\n",
      "The variable is likely to impact model output.\n",
      "\n",
      "The current variable is: Weight\n",
      "The current p-value is: 1.1102230246251565e-16\n",
      "null hypothesis is rejected: p-value = 1.1102230246251565e-16.\n",
      "The probablity of the two distributions' variance being equal is low.\n",
      "The variable is likely to impact model output.\n",
      "\n",
      "The current variable is: Age\n",
      "The current p-value is: 1.9696747788344737e-08\n",
      "null hypothesis is rejected: p-value = 1.9696747788344737e-08.\n",
      "The probablity of the two distributions' variance being equal is low.\n",
      "The variable is likely to impact model output.\n",
      "\n"
     ]
    }
   ],
   "source": [
    "f_test_list_v1 = f_test(pred_prob_v1, pred_prob_result_list_v1, X_list_v1)"
   ]
  },
  {
   "cell_type": "code",
   "execution_count": 13,
   "metadata": {},
   "outputs": [
    {
     "name": "stdout",
     "output_type": "stream",
     "text": [
      "The current variable is: PreviousMedals\n",
      "The current p-value is: 1.608279905140897e-05\n",
      "null hypothesis is rejected: p-value = 1.608279905140897e-05.\n",
      "The probablity of the two distributions' variance being equal is low.\n",
      "The variable is likely to impact model output.\n",
      "\n",
      "The current variable is: NOC_advantage\n",
      "The current p-value is: 1.1102230246251565e-16\n",
      "null hypothesis is rejected: p-value = 1.1102230246251565e-16.\n",
      "The probablity of the two distributions' variance being equal is low.\n",
      "The variable is likely to impact model output.\n",
      "\n",
      "The current variable is: Height_div_avg\n",
      "The current p-value is: 3.3195227677751404e-09\n",
      "null hypothesis is rejected: p-value = 3.3195227677751404e-09.\n",
      "The probablity of the two distributions' variance being equal is low.\n",
      "The variable is likely to impact model output.\n",
      "\n",
      "The current variable is: Weight_div_avg\n",
      "The current p-value is: 0.09351866029009925\n",
      "null hypothesis cannot be rejected: p-value = 0.09351866029009925.\n",
      "The probablity of the two distributions' variance being equal is high.\n",
      "The variable is unlikely to impact model output.\n",
      "\n",
      "The current variable is: Age_div_avg\n",
      "The current p-value is: 0.6500427254506786\n",
      "null hypothesis cannot be rejected: p-value = 0.6500427254506786.\n",
      "The probablity of the two distributions' variance being equal is high.\n",
      "The variable is unlikely to impact model output.\n",
      "\n"
     ]
    }
   ],
   "source": [
    "f_test_list_v2 = f_test(sf, pred_prob_result_list_v2, X_list_v2)"
   ]
  }
 ],
 "metadata": {
  "kernelspec": {
   "display_name": "Python 3 (ipykernel)",
   "language": "python",
   "name": "python3"
  },
  "language_info": {
   "codemirror_mode": {
    "name": "ipython",
    "version": 3
   },
   "file_extension": ".py",
   "mimetype": "text/x-python",
   "name": "python",
   "nbconvert_exporter": "python",
   "pygments_lexer": "ipython3",
   "version": "3.8.8"
  }
 },
 "nbformat": 4,
 "nbformat_minor": 4
}
