{
 "cells": [
  {
   "cell_type": "markdown",
   "metadata": {},
   "source": [
    "# Dr. Bonks logistic regression model"
   ]
  },
  {
   "cell_type": "markdown",
   "metadata": {},
   "source": [
    "#### Imports"
   ]
  },
  {
   "cell_type": "code",
   "execution_count": 564,
   "metadata": {},
   "outputs": [],
   "source": [
    "'''\n",
    "Credit to GitHub user Jaimin09\n",
    "Link: https://github.com/Jaimin09/Coding-Lane-Assets/tree/main/Logistic%20Regression%20in%20Python%20from%20Scratch\n",
    "Last accessed: 28/10/2021\n",
    "'''\n",
    "\n",
    "import numpy as np\n",
    "import pandas as pd\n",
    "import matplotlib.pyplot as plt\n",
    "import math\n",
    "\n",
    "# ! Set seed and seed calling function\n",
    "rng = np.random.default_rng(1)\n",
    "\n",
    "# ! Get dataset\n",
    "filepath = 'dec_sep_MPHWA.csv'\n",
    "df = pd.read_csv(filepath)\n",
    "df= df.reset_index()\n",
    "\n",
    "dec_path = 'dec_MPHWA.csv'\n",
    "dec_df = pd.read_csv(dec_path)\n",
    "dec_df = dec_df.reset_index()"
   ]
  },
  {
   "cell_type": "markdown",
   "metadata": {},
   "source": [
    "#### Reshape"
   ]
  },
  {
   "cell_type": "code",
   "execution_count": 565,
   "metadata": {},
   "outputs": [],
   "source": [
    "def Reshape(X, Y):\n",
    "    # Drop id column from dataframes\n",
    "    X = X.drop(\"ID\", axis = 1)\n",
    "    Y = Y.drop(\"ID\", axis = 1)\n",
    "    \n",
    "    # Define dataframes as variables\n",
    "    X = X.values\n",
    "    Y = Y.values\n",
    "    \n",
    "    # Reshape dataframes to appropriate shape\n",
    "    X = X.T\n",
    "    Y = Y.reshape(1, X.shape[1])\n",
    "    \n",
    "    return X, Y"
   ]
  },
  {
   "cell_type": "markdown",
   "metadata": {},
   "source": [
    "#### Even out the dataframe"
   ]
  },
  {
   "cell_type": "code",
   "execution_count": 566,
   "metadata": {},
   "outputs": [],
   "source": [
    "def EvenDF(df):\n",
    "    # Split dataframe into won a medal and didnt win a medal\n",
    "    df_1 = df[df.MedalEarned == 1]\n",
    "    df_0 = df[df.MedalEarned == 0]\n",
    "    \n",
    "    # Randomly sample df_0 to size of df_1\n",
    "    df_0 = df_0.sample(n = len(df_1), random_state=rng.integers(100000))\n",
    "    \n",
    "    return df_1, df_0"
   ]
  },
  {
   "cell_type": "markdown",
   "metadata": {},
   "source": [
    "### Test sampler"
   ]
  },
  {
   "cell_type": "code",
   "execution_count": 567,
   "metadata": {},
   "outputs": [],
   "source": [
    "def TestSampler(df, X_list, Y_list):\n",
    "    # Split dataframe into won a medal and didnt win a medal\n",
    "    df_1 = df[df.MedalEarned == 1]\n",
    "    df_0 = df[df.MedalEarned == 0]\n",
    "    \n",
    "    # Randomly sample test df_1 and df_0\n",
    "    df_1_test = df_1.sample(n = 100, random_state=rng.integers(100000))\n",
    "    df_0_test = df_0.sample(n = 100, random_state=rng.integers(100000))\n",
    "    \n",
    "    # Remove test samples from df_1 and df_0\n",
    "    df = df.drop(df_1_test.index)\n",
    "    df_testless = df.drop(df_0_test.index)\n",
    "    \n",
    "    # Concat df_1_test and df_0_test\n",
    "    df_test_list = [df_1_test, df_0_test]\n",
    "    df_test = pd.concat(df_test_list)\n",
    "    \n",
    "    # Reduce and split X and Y dataframes\n",
    "    X_test = df_test[X_list]\n",
    "    Y_test = df_test[Y_list]\n",
    "    \n",
    "    return df_testless, X_test, Y_test"
   ]
  },
  {
   "cell_type": "markdown",
   "metadata": {},
   "source": [
    "### Train and validate sampler"
   ]
  },
  {
   "cell_type": "code",
   "execution_count": 568,
   "metadata": {},
   "outputs": [],
   "source": [
    "def TrainValidate(df, X_list, Y_list):\n",
    "    # Randomly sample df_0 to size of df_1\n",
    "    df_1, df_0 = EvenDF(df)\n",
    "    \n",
    "    # Randomly sample validate df_1 and df_0\n",
    "    df_1_validate = df_1.sample(frac= 0.2, random_state=rng.integers(100000))\n",
    "    df_0_validate = df_0.sample(frac= 0.2, random_state=rng.integers(100000))\n",
    "    \n",
    "    # Remove validation samples from df_1 and df_0\n",
    "    # The rest of df_1 and df_0 are training\n",
    "    df_1_train = df_1.drop(df_1_validate.index)\n",
    "    df_0_train = df_0.drop(df_0_validate.index)\n",
    "    \n",
    "    # concatinate training and validation\n",
    "    df_validate_list = [df_1_validate, df_0_validate]\n",
    "    df_train_list =    [df_1_train, df_0_train]\n",
    "    \n",
    "    df_validate = pd.concat(df_validate_list)\n",
    "    df_train =    pd.concat(df_train_list)\n",
    "    \n",
    "    # Reduce and split X and Y dataframes\n",
    "    X_validate = df_validate[X_list]\n",
    "    Y_validate = df_validate[Y_list]\n",
    "    X_train =    df_train[X_list]\n",
    "    Y_train =    df_train[Y_list]\n",
    "    \n",
    "    return X_train, Y_train, X_validate, Y_validate"
   ]
  },
  {
   "cell_type": "markdown",
   "metadata": {},
   "source": [
    "#### Sigmoid"
   ]
  },
  {
   "cell_type": "code",
   "execution_count": 569,
   "metadata": {},
   "outputs": [],
   "source": [
    "def Sigmoid(x):\n",
    "    return 1/(1 + np.exp(-x))"
   ]
  },
  {
   "cell_type": "markdown",
   "metadata": {},
   "source": [
    "### Logistic regression model"
   ]
  },
  {
   "cell_type": "code",
   "execution_count": 570,
   "metadata": {},
   "outputs": [],
   "source": [
    "def Model(X, Y, l_rate, iterations):\n",
    "    m = X.shape[1] # Observations\n",
    "    n = X.shape[0] # Types of parameters\n",
    "    \n",
    "    W = np.zeros((n,1)) # All a parameters\n",
    "    B = 0\n",
    "    \n",
    "    cost_list = [] # Empty cost list\n",
    "    \n",
    "    for i in range(iterations):\n",
    "        lin_func = np.dot(W.T, X) + B # Linear function\n",
    "        sf = Sigmoid(lin_func) # Sigmoid function\n",
    "        \n",
    "        # Cost function\n",
    "        cost = -(1/m)*np.sum( Y*np.log(sf) + (1-Y)*np.log(1-sf))\n",
    "        \n",
    "        # Gradient Descent\n",
    "        dW = (1/m)*np.dot(sf-Y, X.T)\n",
    "        dB = (1/m)*np.sum(sf - Y)\n",
    "        \n",
    "        W = W - l_rate * dW.T\n",
    "        B = B - l_rate * dB\n",
    "        \n",
    "        # Keeping track of our cost function value\n",
    "        cost_list.append(cost)\n",
    "    \n",
    "    return W, B, cost_list"
   ]
  },
  {
   "cell_type": "markdown",
   "metadata": {},
   "source": [
    "## Run model"
   ]
  },
  {
   "cell_type": "code",
   "execution_count": 571,
   "metadata": {},
   "outputs": [],
   "source": [
    "def RunModel(df_testless, iterations, l_rate):\n",
    "    # Make X_train, Y_train, X_validate, Y_validate\n",
    "    X_train, Y_train, X_validate, Y_validate = TrainValidate(df_testless, X_list, Y_list)\n",
    "    \n",
    "    # Import and reshape training and validation dataframes\n",
    "    X_train, Y_train = Reshape(X_train, Y_train)\n",
    "    X_validate, Y_validate = Reshape(X_validate, Y_validate)\n",
    "    \n",
    "    # Call Model function\n",
    "    W, B, cost_list = Model(X_train, Y_train, l_rate, iterations)\n",
    "    \n",
    "    return W, B"
   ]
  },
  {
   "cell_type": "markdown",
   "metadata": {},
   "source": [
    "## Multiple runs of model"
   ]
  },
  {
   "cell_type": "code",
   "execution_count": 572,
   "metadata": {},
   "outputs": [],
   "source": [
    "X_list = ['ID', \n",
    "        'PreviousMedals', \n",
    "        'Height_div_avg', \n",
    "        'Weight_div_avg', \n",
    "        'Age_div_avg'\n",
    "        ]\n",
    "\n",
    "Y_list = ['ID', 'MedalEarned']\n",
    "\n",
    "def RunMore(times, iterations, l_rate):\n",
    "    W_list = []\n",
    "    B_list = []\n",
    "    \n",
    "    # Create test sample\n",
    "    df_testless, X_test, Y_test = TestSampler(df, X_list, Y_list)\n",
    "    \n",
    "    for i in range(times):\n",
    "        # Run model\n",
    "        W, B = RunModel(df_testless, iterations, l_rate)\n",
    "        \n",
    "        # Append parameters, accuracy and occurances to lists\n",
    "        W_list.append(W)\n",
    "        B_list.append(B)\n",
    "        \n",
    "        # Progress bar\n",
    "        if len(W_list) % 10 == 0:\n",
    "            print(f'{times - len(W_list)} runs left.')\n",
    "    \n",
    "    return W_list, B_list"
   ]
  },
  {
   "cell_type": "markdown",
   "metadata": {},
   "source": [
    "## Classify"
   ]
  },
  {
   "cell_type": "code",
   "execution_count": 573,
   "metadata": {},
   "outputs": [],
   "source": [
    "def Classify(X, W, B, cop):\n",
    "    lin_func = np.dot(W.T, X) + B # Linear function\n",
    "    sf = Sigmoid(lin_func) # Sigmoid function\n",
    "    \n",
    "    # Make sf binary array with data type int64\n",
    "    sf = sf > cop # Sets sf to one if > 0 or 0 if < 0\n",
    "    sf = np.array(sf, dtype = 'int64')\n",
    "    \n",
    "    return sf"
   ]
  },
  {
   "cell_type": "markdown",
   "metadata": {},
   "source": [
    "## Alt classify"
   ]
  },
  {
   "cell_type": "code",
   "execution_count": 574,
   "metadata": {},
   "outputs": [],
   "source": [
    "def AltClassify(df, X, W, B, wg):\n",
    "    # Calculate predictions\n",
    "    lf = np.dot(W.T, X) + B # Linear function\n",
    "    sf = Sigmoid(lf) # Sigmoid function\n",
    "    sf_T = sf.T\n",
    "    \n",
    "    # Add predictions to df\n",
    "    sf_pd = pd.DataFrame(sf_T, columns= ['Prediction'])\n",
    "    df_sf = pd.concat([df, sf_pd], axis= 1)\n",
    "    \n",
    "    # Find highest predictions for each year\n",
    "    df1 = df_sf.groupby(['Year'])\n",
    "    df2 = df1.apply(lambda x: x.sort_values(['Prediction'], ascending= False))\n",
    "    df3 = df2.reset_index(drop= True)\n",
    "    df4 = df3.groupby('Year').head(wg)\n",
    "    index_list = df4['index'].tolist()\n",
    "    \n",
    "    # Set highest predictions to 1 and rest to 0\n",
    "    for i in range(len(df_sf)):\n",
    "        if i in index_list:\n",
    "            df_sf.at[i, 'Prediction'] = 1\n",
    "        else:\n",
    "            df_sf.at[i, 'Prediction'] = 0\n",
    "    \n",
    "    sf_T_new = df_sf['Prediction'].to_numpy()\n",
    "    sf_int = np.array(sf_T_new, dtype = 'int64')\n",
    "    \n",
    "    return sf_int"
   ]
  },
  {
   "cell_type": "markdown",
   "metadata": {},
   "source": [
    "## Accuracy"
   ]
  },
  {
   "cell_type": "code",
   "execution_count": 575,
   "metadata": {},
   "outputs": [],
   "source": [
    "def Accuracy(sf, Y):\n",
    "    # 1 = True Pos, 0 = True Neg, -1 = False Neg, 2 = False Pos \n",
    "    guesses = sf * 2 - Y\n",
    "    occurance = [[x, list(guesses[0]).count(x)] for x in set(list(guesses[0]))]\n",
    "    occ_d = {1:0, 0:0, -1:0, 2:0}\n",
    "    \n",
    "    # Assign value to keys e.g. TP : 22\n",
    "    for i in occurance: \n",
    "        occ_d[i[0]] = i[1]\n",
    "    \n",
    "    # True Positive, True Negative, False Positive and False Negative\n",
    "    tp, tn, fp, fn = occ_d[1], occ_d[0], occ_d[2], occ_d[-1]\n",
    "    \n",
    "    # Calculate accuracy\n",
    "    acc = (tp + tn) / (tp + tn + fp + fn)\n",
    "    \n",
    "    return acc, occ_d"
   ]
  },
  {
   "cell_type": "markdown",
   "metadata": {},
   "source": [
    "## Decathlon"
   ]
  },
  {
   "cell_type": "code",
   "execution_count": 606,
   "metadata": {},
   "outputs": [],
   "source": [
    "def Decathlon(df, W_list, B_list, cop):\n",
    "    dec_acc_list = []\n",
    "    dec_occ_list = []\n",
    "    \n",
    "    # Reduce and split X and Y dataframes\n",
    "    X_dec = df[X_list]\n",
    "    Y_dec = df[Y_list]\n",
    "    \n",
    "    # Import and reshape dec data\n",
    "    X_dec, Y_dec = Reshape(X_dec, Y_dec)\n",
    "    \n",
    "    # Test parameters on dec\n",
    "    for i in range(len(W_list)):\n",
    "        sf = Classify(X_dec, W_list[i], B_list[i], cop)\n",
    "        da, dod = Accuracy(sf, Y_dec)\n",
    "        dec_acc_list.append(da)\n",
    "        dec_occ_list.append(dod)\n",
    "    \n",
    "    return dec_acc_list, dec_occ_list"
   ]
  },
  {
   "cell_type": "code",
   "execution_count": 577,
   "metadata": {},
   "outputs": [],
   "source": [
    "def DecathlonAlt(df, W_list, B_list, wg):\n",
    "    daal = []\n",
    "    daol = []\n",
    "    \n",
    "    # Reduce and split X and Y dataframes\n",
    "    X_dec = df[X_list]\n",
    "    Y_dec = df[Y_list]\n",
    "    \n",
    "    # Import and reshape dec data\n",
    "    X_dec, Y_dec = Reshape(X_dec, Y_dec)\n",
    "    \n",
    "    for i in range(len(W_list)):\n",
    "        sf = AltClassify(dec_df, X_dec, W_list[i], B_list[i], wg)\n",
    "        daa, daod = Accuracy(sf, Y_dec)\n",
    "        daal.append(daa)\n",
    "        daol.append(daod)\n",
    "        \n",
    "        return daal, daol"
   ]
  },
  {
   "cell_type": "markdown",
   "metadata": {},
   "source": [
    "# Execute model"
   ]
  },
  {
   "cell_type": "code",
   "execution_count": 578,
   "metadata": {
    "scrolled": false
   },
   "outputs": [
    {
     "name": "stdout",
     "output_type": "stream",
     "text": [
      "40 runs left.\n",
      "30 runs left.\n",
      "20 runs left.\n",
      "10 runs left.\n",
      "0 runs left.\n"
     ]
    }
   ],
   "source": [
    "W_list, B_list = RunMore(times= 50, iterations= 5000, l_rate= 0.02)"
   ]
  },
  {
   "cell_type": "markdown",
   "metadata": {},
   "source": [
    "### tp and fp"
   ]
  },
  {
   "cell_type": "code",
   "execution_count": 579,
   "metadata": {},
   "outputs": [],
   "source": [
    "def TPFP(occ_l= []):\n",
    "    tp,fp,tn,fn = 0,0,0,0 \n",
    "    \n",
    "    # Sum up all occurances of False negatives and positives\n",
    "    # 1 = True Pos, 0 = True Neg, -1 = False Neg, 2 = False Pos \n",
    "    for i, occ in enumerate(occ_l):\n",
    "        tp += occ[1]\n",
    "        tn += occ[0]\n",
    "        fn += occ[-1]\n",
    "        fp += occ[2]\n",
    "    \n",
    "    # True positive rate - sensitivity \n",
    "    tpr = tp / (tp + fn)\n",
    "    # False Positive - type 1 error\n",
    "    fpr = fp / (fp + tn)\n",
    "    \n",
    "    return tpr, fpr"
   ]
  },
  {
   "cell_type": "markdown",
   "metadata": {},
   "source": [
    "# Roc curve"
   ]
  },
  {
   "cell_type": "code",
   "execution_count": 611,
   "metadata": {},
   "outputs": [],
   "source": [
    "def RocCurve(dec_df, W_list, B_list, norm= True, alt= False):\n",
    "    tp_l = []\n",
    "    fp_l = []\n",
    "    \n",
    "    if norm:\n",
    "        cop_l = list(range(100, -1, -1))\n",
    "        \n",
    "        for i, cop_ in enumerate(cop_l):\n",
    "            cop = cop_ / 100\n",
    "            acc_l, occ_l = Decathlon(dec_df, W_list, B_list, cop)\n",
    "            tpr, fpr = TPFP(occ_l)\n",
    "            tp_l.append(tpr)\n",
    "            fp_l.append(fpr)\n",
    "    \n",
    "    if alt:\n",
    "        pass\n",
    "    \n",
    "    # Find smallest distance from optimal\n",
    "    distance_l = []\n",
    "    \n",
    "    for i in range(len(tp_l)):\n",
    "        distance = abs(math.sqrt((fp_l[i] - 0)**2 + (tp_l[i] - 1)**2))\n",
    "        distance_l.append(distance)\n",
    "    \n",
    "    opt_d = min(distance_l)\n",
    "    opt_d_ind = distance_l.index(opt_d)\n",
    "    opt_loc = [tp_l[opt_d_ind] for i in fp_l]\n",
    "    \n",
    "    print(f'The optimal cop is: {cop_l[opt_d_ind] / 100}')\n",
    "    \n",
    "    # Plot ROC curve\n",
    "    x = np.linspace(0, 1, 100)\n",
    "    plt.figure(1)\n",
    "    plt.plot(fp_l, tp_l)\n",
    "    plt.plot(x, x, linestyle= ':') # dashed line\n",
    "    \n",
    "    plt.plot(fp_l, opt_loc, linestyle= '--', color= 'grey')\n",
    "    plt.axvline(x= fp_l[opt_d_ind], ymin= 0, ymax= 1, linestyle= '--', color= 'grey')\n",
    "    \n",
    "    plt.xlabel('False Positive Rate')\n",
    "    plt.ylabel('True Positive Rate')\n",
    "    plt.title('ROC curve')\n",
    "    plt.show()\n",
    "    \n",
    "    return tp_l, fp_l"
   ]
  },
  {
   "cell_type": "code",
   "execution_count": 612,
   "metadata": {},
   "outputs": [
    {
     "name": "stdout",
     "output_type": "stream",
     "text": [
      "The optimal cop is: 0.47\n"
     ]
    },
    {
     "data": {
      "image/png": "[encoded data removed]",
      "text/plain": [
       "<Figure size 432x288 with 1 Axes>"
      ]
     },
     "metadata": {
      "needs_background": "light"
     },
     "output_type": "display_data"
    }
   ],
   "source": [
    "tp_l, fp_l = RocCurve(dec_df, W_list, B_list)"
   ]
  }
 ],
 "metadata": {
  "kernelspec": {
   "display_name": "Python 3",
   "language": "python",
   "name": "python3"
  },
  "language_info": {
   "codemirror_mode": {
    "name": "ipython",
    "version": 3
   },
   "file_extension": ".py",
   "mimetype": "text/x-python",
   "name": "python",
   "nbconvert_exporter": "python",
   "pygments_lexer": "ipython3",
   "version": "3.8.5"
  }
 },
 "nbformat": 4,
 "nbformat_minor": 4
}
